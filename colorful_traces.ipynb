{
 "cells": [
  {
   "cell_type": "markdown",
   "metadata": {},
   "source": [
    "<a id=\"up\"></a>\n",
    "# Colorful Traces notebook\n",
    "\n",
    "Here is the notebook we used to do some exploration about the data\n",
    "\n",
    " - [Setup](#setup)\n",
    " - [data exploration](#data-exp)\n",
    " - [long lat extraction](#extr)\n",
    "\n",
    "Please run setup if you want to run any of the subsections\n",
    "\n"
   ]
  },
  {
   "cell_type": "markdown",
   "metadata": {},
   "source": [
    "<a id = 'setup'> </a>\n",
    "## Setup \n",
    "[Table of Content](#up)\n",
    "\n",
    "imports and useful functions"
   ]
  },
  {
   "cell_type": "code",
   "execution_count": 6,
   "metadata": {},
   "outputs": [],
   "source": [
    "import pandas as pd \n",
    "from urllib.request import urlopen\n",
    "import xmltodict\n",
    "import json\n",
    "import matplotlib as plt\n",
    "%matplotlib inline"
   ]
  },
  {
   "cell_type": "code",
   "execution_count": 7,
   "metadata": {},
   "outputs": [],
   "source": [
    "def buildOSMNodeToLatLngDictionary(allOsmNodes):\n",
    "    d = {}\n",
    "    for p in allOsmNodes:\n",
    "        d[p] = getLatLng(p)\n",
    "    return d\n",
    "\n",
    "def getLatLng(osmNode):\n",
    "    file = urlopen('https://api.openstreetmap.org/api/0.6/node/' + str(osmNode))\n",
    "    data = file.read()\n",
    "    file.close()\n",
    "    data = xmltodict.parse(data)\n",
    "    return data['osm']['node']['@lat'], data['osm']['node']['@lon']"
   ]
  },
  {
   "cell_type": "markdown",
   "metadata": {},
   "source": [
    "<a id = 'data-exp'> </a>\n",
    "## Data Exploration\n",
    "\n",
    "[Table of Content](#up)\n",
    "\n",
    "\n",
    "Here, we are doing some basic stats about the data to have more insight"
   ]
  },
  {
   "cell_type": "code",
   "execution_count": 8,
   "metadata": {},
   "outputs": [
    {
     "data": {
      "text/html": [
       "<div>\n",
       "<style scoped>\n",
       "    .dataframe tbody tr th:only-of-type {\n",
       "        vertical-align: middle;\n",
       "    }\n",
       "\n",
       "    .dataframe tbody tr th {\n",
       "        vertical-align: top;\n",
       "    }\n",
       "\n",
       "    .dataframe thead th {\n",
       "        text-align: right;\n",
       "    }\n",
       "</style>\n",
       "<table border=\"1\" class=\"dataframe\">\n",
       "  <thead>\n",
       "    <tr style=\"text-align: right;\">\n",
       "      <th></th>\n",
       "      <th>t</th>\n",
       "      <th>road</th>\n",
       "      <th>LengthRoad</th>\n",
       "      <th>pnode</th>\n",
       "      <th>dnode</th>\n",
       "    </tr>\n",
       "  </thead>\n",
       "  <tbody>\n",
       "    <tr>\n",
       "      <th>0</th>\n",
       "      <td>11:15:00</td>\n",
       "      <td>[311463563, 2940544168, 311463564, 561463459, ...</td>\n",
       "      <td>61</td>\n",
       "      <td>311463563</td>\n",
       "      <td>567914227</td>\n",
       "    </tr>\n",
       "    <tr>\n",
       "      <th>1</th>\n",
       "      <td>20:00:00</td>\n",
       "      <td>[311463563, 2940544168, 311463564, 561463459, ...</td>\n",
       "      <td>234</td>\n",
       "      <td>311463563</td>\n",
       "      <td>560972953</td>\n",
       "    </tr>\n",
       "    <tr>\n",
       "      <th>2</th>\n",
       "      <td>18:15:00</td>\n",
       "      <td>[311463563, 2940544168, 311463564, 561463459, ...</td>\n",
       "      <td>346</td>\n",
       "      <td>311463563</td>\n",
       "      <td>3357408889</td>\n",
       "    </tr>\n",
       "    <tr>\n",
       "      <th>3</th>\n",
       "      <td>18:45:00</td>\n",
       "      <td>[2223091605, 3786724165, 3786724164, 302530573...</td>\n",
       "      <td>125</td>\n",
       "      <td>2223091605</td>\n",
       "      <td>4601251537</td>\n",
       "    </tr>\n",
       "    <tr>\n",
       "      <th>4</th>\n",
       "      <td>19:00:00</td>\n",
       "      <td>[3516999773, 3817926827, 567951313, 567951312,...</td>\n",
       "      <td>201</td>\n",
       "      <td>3516999773</td>\n",
       "      <td>1025496938</td>\n",
       "    </tr>\n",
       "  </tbody>\n",
       "</table>\n",
       "</div>"
      ],
      "text/plain": [
       "          t                                               road  LengthRoad  \\\n",
       "0  11:15:00  [311463563, 2940544168, 311463564, 561463459, ...          61   \n",
       "1  20:00:00  [311463563, 2940544168, 311463564, 561463459, ...         234   \n",
       "2  18:15:00  [311463563, 2940544168, 311463564, 561463459, ...         346   \n",
       "3  18:45:00  [2223091605, 3786724165, 3786724164, 302530573...         125   \n",
       "4  19:00:00  [3516999773, 3817926827, 567951313, 567951312,...         201   \n",
       "\n",
       "        pnode       dnode  \n",
       "0   311463563   567914227  \n",
       "1   311463563   560972953  \n",
       "2   311463563  3357408889  \n",
       "3  2223091605  4601251537  \n",
       "4  3516999773  1025496938  "
      ]
     },
     "execution_count": 8,
     "metadata": {},
     "output_type": "execute_result"
    }
   ],
   "source": [
    "colorful = pd.read_csv(\"data/dataviz.csv\", parse_dates=True )\n",
    "colorful[\"road\"] = colorful[\"road\"].map(eval)\n",
    "colorful[\"LengthRoad\"] = colorful[\"road\"].map(lambda x : len(x))\n",
    "colorful[\"pnode\"] =colorful[\"road\"].map(lambda x :x[0])\n",
    "colorful[\"dnode\"] =colorful[\"road\"].map(lambda x :x[-1])\n",
    "colorful = colorful.drop(columns=[\"plat\", \"plng\", \"dlat\", \"dlng\"])\n",
    "colorful.to_csv(\"data/cleaned.csv\")\n",
    "colorful.head()"
   ]
  },
  {
   "cell_type": "code",
   "execution_count": 9,
   "metadata": {},
   "outputs": [],
   "source": [
    "# Some stats about the \n",
    "\n",
    "from collections import Counter\n",
    "\n",
    "counter =Counter()\n",
    "\n",
    "def count_node(nodes):\n",
    "    for n in nodes:\n",
    "        counter[n] += 1\n",
    "        \n",
    "for nodes in colorful.road.tolist():\n",
    "    count_node(nodes)\n",
    "\n"
   ]
  },
  {
   "cell_type": "code",
   "execution_count": 10,
   "metadata": {},
   "outputs": [
    {
     "data": {
      "text/html": [
       "<div>\n",
       "<style scoped>\n",
       "    .dataframe tbody tr th:only-of-type {\n",
       "        vertical-align: middle;\n",
       "    }\n",
       "\n",
       "    .dataframe tbody tr th {\n",
       "        vertical-align: top;\n",
       "    }\n",
       "\n",
       "    .dataframe thead th {\n",
       "        text-align: right;\n",
       "    }\n",
       "</style>\n",
       "<table border=\"1\" class=\"dataframe\">\n",
       "  <thead>\n",
       "    <tr style=\"text-align: right;\">\n",
       "      <th></th>\n",
       "      <th>occurence</th>\n",
       "    </tr>\n",
       "  </thead>\n",
       "  <tbody>\n",
       "    <tr>\n",
       "      <th>2657469978</th>\n",
       "      <td>1103</td>\n",
       "    </tr>\n",
       "    <tr>\n",
       "      <th>155124152</th>\n",
       "      <td>1024</td>\n",
       "    </tr>\n",
       "    <tr>\n",
       "      <th>2223091605</th>\n",
       "      <td>996</td>\n",
       "    </tr>\n",
       "    <tr>\n",
       "      <th>2223091607</th>\n",
       "      <td>995</td>\n",
       "    </tr>\n",
       "    <tr>\n",
       "      <th>3786724226</th>\n",
       "      <td>995</td>\n",
       "    </tr>\n",
       "  </tbody>\n",
       "</table>\n",
       "</div>"
      ],
      "text/plain": [
       "            occurence\n",
       "2657469978       1103\n",
       "155124152        1024\n",
       "2223091605        996\n",
       "2223091607        995\n",
       "3786724226        995"
      ]
     },
     "execution_count": 10,
     "metadata": {},
     "output_type": "execute_result"
    }
   ],
   "source": [
    "nodes = pd.DataFrame.from_dict(counter, orient=\"index\", columns=[\"occurence\"]).sort_values(by= \"occurence\", ascending=False)\n",
    "nodes.head()"
   ]
  },
  {
   "cell_type": "code",
   "execution_count": 11,
   "metadata": {},
   "outputs": [
    {
     "data": {
      "text/plain": [
       "12600"
      ]
     },
     "execution_count": 11,
     "metadata": {},
     "output_type": "execute_result"
    }
   ],
   "source": [
    "# List of all nodes\n",
    "allNodes = nodes.index.tolist()\n",
    "len(allNodes)"
   ]
  },
  {
   "cell_type": "code",
   "execution_count": 12,
   "metadata": {},
   "outputs": [],
   "source": [
    "nodesToOccurencesDict = pd.Series(nodes.occurence,index=nodes.index.values).to_dict()\n",
    "\n",
    "# Save Dictionary\n",
    "with open('data/nodesToOccurences.json', 'w') as fp:\n",
    "    json.dump(nodesToOccurencesDict, fp)"
   ]
  },
  {
   "cell_type": "code",
   "execution_count": 13,
   "metadata": {},
   "outputs": [
    {
     "data": {
      "text/html": [
       "<div>\n",
       "<style scoped>\n",
       "    .dataframe tbody tr th:only-of-type {\n",
       "        vertical-align: middle;\n",
       "    }\n",
       "\n",
       "    .dataframe tbody tr th {\n",
       "        vertical-align: top;\n",
       "    }\n",
       "\n",
       "    .dataframe thead th {\n",
       "        text-align: right;\n",
       "    }\n",
       "</style>\n",
       "<table border=\"1\" class=\"dataframe\">\n",
       "  <thead>\n",
       "    <tr style=\"text-align: right;\">\n",
       "      <th></th>\n",
       "      <th>tuple-unique</th>\n",
       "      <th>percentage</th>\n",
       "    </tr>\n",
       "    <tr>\n",
       "      <th>occurence</th>\n",
       "      <th></th>\n",
       "      <th></th>\n",
       "    </tr>\n",
       "  </thead>\n",
       "  <tbody>\n",
       "    <tr>\n",
       "      <th>1</th>\n",
       "      <td>2901</td>\n",
       "      <td>23.023810</td>\n",
       "    </tr>\n",
       "    <tr>\n",
       "      <th>2</th>\n",
       "      <td>1953</td>\n",
       "      <td>15.500000</td>\n",
       "    </tr>\n",
       "    <tr>\n",
       "      <th>3</th>\n",
       "      <td>1047</td>\n",
       "      <td>8.309524</td>\n",
       "    </tr>\n",
       "    <tr>\n",
       "      <th>4</th>\n",
       "      <td>751</td>\n",
       "      <td>5.960317</td>\n",
       "    </tr>\n",
       "    <tr>\n",
       "      <th>6</th>\n",
       "      <td>705</td>\n",
       "      <td>5.595238</td>\n",
       "    </tr>\n",
       "    <tr>\n",
       "      <th>5</th>\n",
       "      <td>604</td>\n",
       "      <td>4.793651</td>\n",
       "    </tr>\n",
       "    <tr>\n",
       "      <th>7</th>\n",
       "      <td>509</td>\n",
       "      <td>4.039683</td>\n",
       "    </tr>\n",
       "    <tr>\n",
       "      <th>8</th>\n",
       "      <td>318</td>\n",
       "      <td>2.523810</td>\n",
       "    </tr>\n",
       "    <tr>\n",
       "      <th>10</th>\n",
       "      <td>256</td>\n",
       "      <td>2.031746</td>\n",
       "    </tr>\n",
       "    <tr>\n",
       "      <th>9</th>\n",
       "      <td>255</td>\n",
       "      <td>2.023810</td>\n",
       "    </tr>\n",
       "  </tbody>\n",
       "</table>\n",
       "</div>"
      ],
      "text/plain": [
       "           tuple-unique  percentage\n",
       "occurence                          \n",
       "1                  2901   23.023810\n",
       "2                  1953   15.500000\n",
       "3                  1047    8.309524\n",
       "4                   751    5.960317\n",
       "6                   705    5.595238\n",
       "5                   604    4.793651\n",
       "7                   509    4.039683\n",
       "8                   318    2.523810\n",
       "10                  256    2.031746\n",
       "9                   255    2.023810"
      ]
     },
     "execution_count": 13,
     "metadata": {},
     "output_type": "execute_result"
    }
   ],
   "source": [
    "nodes[\"tuple-unique\"] = 1\n",
    "t_unique = nodes.groupby(\"occurence\").count().sort_values(by=\"tuple-unique\", ascending =False)\n",
    "t_unique[\"percentage\"] = t_unique[\"tuple-unique\"].map(lambda x : x/t_unique[\"tuple-unique\"].sum() *100)\n",
    "t_unique.head(10)"
   ]
  },
  {
   "cell_type": "code",
   "execution_count": 14,
   "metadata": {},
   "outputs": [
    {
     "data": {
      "text/plain": [
       "Text(0.5, 0, 'number of nodes that appears x-times')"
      ]
     },
     "execution_count": 14,
     "metadata": {},
     "output_type": "execute_result"
    },
    {
     "data": {
      "image/png": "[encoded data removed]",
      "text/plain": [
       "<Figure size 432x288 with 1 Axes>"
      ]
     },
     "metadata": {
      "needs_background": "light"
     },
     "output_type": "display_data"
    }
   ],
   "source": [
    "fig = t_unique[\"percentage\"].head(10).plot.bar(ylim=[0, 100], title=\"Percentage of node id by duplications\")\n",
    "fig.yaxis.set_label_text(\"Percentage\")\n",
    "fig.xaxis.set_label_text(\"number of nodes that appears x-times\")"
   ]
  },
  {
   "cell_type": "code",
   "execution_count": 15,
   "metadata": {},
   "outputs": [
    {
     "name": "stdout",
     "output_type": "stream",
     "text": [
      "There are 42 different pickup locations.\n"
     ]
    }
   ],
   "source": [
    "pickup_group = colorful.groupby(by=[\"pnode\"]).count().sort_values(\"road\", ascending =False)\n",
    "\n",
    "print(\"There are\", len(pickup_group.index.tolist()), \"different pickup locations.\")\n",
    "\n",
    "nb_pickups_by_pnode = pickup_group.drop(columns=[\"t\", \"road\", \"LengthRoad\"])\n",
    "nb_pickups_by_pnode = nb_pickups_by_pnode.rename(index=str, columns={\"dnode\": \"nb of pickups\"})\n",
    "\n"
   ]
  },
  {
   "cell_type": "code",
   "execution_count": 16,
   "metadata": {
    "scrolled": true
   },
   "outputs": [
    {
     "name": "stdout",
     "output_type": "stream",
     "text": [
      "There are 525 different drop off locations.\n"
     ]
    },
    {
     "data": {
      "text/plain": [
       "<matplotlib.axes._subplots.AxesSubplot at 0x7f32f7f74438>"
      ]
     },
     "execution_count": 16,
     "metadata": {},
     "output_type": "execute_result"
    },
    {
     "data": {
      "image/png": "[encoded data removed]",
      "text/plain": [
       "<Figure size 432x288 with 1 Axes>"
      ]
     },
     "metadata": {
      "needs_background": "light"
     },
     "output_type": "display_data"
    }
   ],
   "source": [
    "drop_off_group = colorful.groupby(by=[\"dnode\"]).count().sort_values(\"road\", ascending =False)\n",
    "\n",
    "print(\"There are\", len(drop_off_group.index.tolist()), \"different drop off locations.\")\n",
    "\n",
    "nb_dropoffs_by_pnode = drop_off_group.drop(columns=[\"t\",  \"LengthRoad\"])\n",
    "#nb_dropoffs_by_pnode = nb_dropoffs_by_pnode.rename(index=str, columns={\"pnode\": \"nb of x tuples dropoffs\"})\n",
    "   \n",
    "\n",
    "nb_dropoffs_by_pnode.groupby(\"road\").count()   \n",
    "nb_dropoffs_by_pnode.groupby(\"pnode\").count().plot.bar()"
   ]
  },
  {
   "cell_type": "markdown",
   "metadata": {},
   "source": [
    "One data point contains 6 attributs: `plat`, `plng`, `dlat`, `t`  and `road`. "
   ]
  },
  {
   "cell_type": "code",
   "execution_count": 17,
   "metadata": {},
   "outputs": [
    {
     "data": {
      "text/html": [
       "<div>\n",
       "<style scoped>\n",
       "    .dataframe tbody tr th:only-of-type {\n",
       "        vertical-align: middle;\n",
       "    }\n",
       "\n",
       "    .dataframe tbody tr th {\n",
       "        vertical-align: top;\n",
       "    }\n",
       "\n",
       "    .dataframe thead th {\n",
       "        text-align: right;\n",
       "    }\n",
       "</style>\n",
       "<table border=\"1\" class=\"dataframe\">\n",
       "  <thead>\n",
       "    <tr style=\"text-align: right;\">\n",
       "      <th></th>\n",
       "      <th>LengthRoad</th>\n",
       "      <th>pnode</th>\n",
       "      <th>dnode</th>\n",
       "    </tr>\n",
       "  </thead>\n",
       "  <tbody>\n",
       "    <tr>\n",
       "      <th>count</th>\n",
       "      <td>2000.000000</td>\n",
       "      <td>2.000000e+03</td>\n",
       "      <td>2.000000e+03</td>\n",
       "    </tr>\n",
       "    <tr>\n",
       "      <th>mean</th>\n",
       "      <td>210.462500</td>\n",
       "      <td>2.089708e+09</td>\n",
       "      <td>1.792157e+09</td>\n",
       "    </tr>\n",
       "    <tr>\n",
       "      <th>std</th>\n",
       "      <td>105.143822</td>\n",
       "      <td>1.506250e+09</td>\n",
       "      <td>1.541335e+09</td>\n",
       "    </tr>\n",
       "    <tr>\n",
       "      <th>min</th>\n",
       "      <td>12.000000</td>\n",
       "      <td>5.040500e+05</td>\n",
       "      <td>2.806610e+05</td>\n",
       "    </tr>\n",
       "    <tr>\n",
       "      <th>25%</th>\n",
       "      <td>123.000000</td>\n",
       "      <td>5.630213e+08</td>\n",
       "      <td>5.615095e+08</td>\n",
       "    </tr>\n",
       "    <tr>\n",
       "      <th>50%</th>\n",
       "      <td>190.500000</td>\n",
       "      <td>2.223092e+09</td>\n",
       "      <td>6.224273e+08</td>\n",
       "    </tr>\n",
       "    <tr>\n",
       "      <th>75%</th>\n",
       "      <td>316.000000</td>\n",
       "      <td>2.223092e+09</td>\n",
       "      <td>3.357409e+09</td>\n",
       "    </tr>\n",
       "    <tr>\n",
       "      <th>max</th>\n",
       "      <td>651.000000</td>\n",
       "      <td>5.542663e+09</td>\n",
       "      <td>5.623968e+09</td>\n",
       "    </tr>\n",
       "  </tbody>\n",
       "</table>\n",
       "</div>"
      ],
      "text/plain": [
       "        LengthRoad         pnode         dnode\n",
       "count  2000.000000  2.000000e+03  2.000000e+03\n",
       "mean    210.462500  2.089708e+09  1.792157e+09\n",
       "std     105.143822  1.506250e+09  1.541335e+09\n",
       "min      12.000000  5.040500e+05  2.806610e+05\n",
       "25%     123.000000  5.630213e+08  5.615095e+08\n",
       "50%     190.500000  2.223092e+09  6.224273e+08\n",
       "75%     316.000000  2.223092e+09  3.357409e+09\n",
       "max     651.000000  5.542663e+09  5.623968e+09"
      ]
     },
     "execution_count": 17,
     "metadata": {},
     "output_type": "execute_result"
    }
   ],
   "source": [
    "colorful.describe()"
   ]
  },
  {
   "cell_type": "code",
   "execution_count": 18,
   "metadata": {
    "scrolled": false
   },
   "outputs": [
    {
     "data": {
      "text/plain": [
       "count    2000.000000\n",
       "mean      210.462500\n",
       "std       105.143822\n",
       "min        12.000000\n",
       "25%       123.000000\n",
       "50%       190.500000\n",
       "75%       316.000000\n",
       "max       651.000000\n",
       "Name: LengthRoad, dtype: float64"
      ]
     },
     "execution_count": 18,
     "metadata": {},
     "output_type": "execute_result"
    }
   ],
   "source": [
    "colorful[\"LengthRoad\"].describe()"
   ]
  },
  {
   "cell_type": "markdown",
   "metadata": {},
   "source": [
    "<a id = 'extr'></a>\n",
    "## Long Lat Extraction\n",
    "[Table of Content](#up)\n",
    "\n",
    "\n",
    "In this section, we are extracting the lattitude and the longitude of the node id presente in the path"
   ]
  },
  {
   "cell_type": "code",
   "execution_count": null,
   "metadata": {},
   "outputs": [],
   "source": [
    "# Building osm to lat and lng dictionary\n",
    "\n",
    "# ATTENTION deleted nodes : allNodes[107:108],allNodes[136:137], allNodes[188:189], allNodes[211:212], allNodes[3281:3282], allNodes[3287:3288], allNodes[4049:4050], allNodes[5395:5396], allNodes[5949:5950], allNodes[5965:5966]\n",
    "# allNodes[5976:5977], allNodes[5983:5984], allNodes[6165:6166], allNodes[6175:6176], allNodes[6177:6178], allNodes[7798:7799], allNodes[8625:8626], allNodes[8626:8627]\n",
    "# allNodes[9089:9090], allNodes[9103:9104], allNodes[12252:12253], allNodes[12343:12344]\n",
    "\n",
    "chunk = allNodes[12600:12600]\n",
    "d = buildOSMNodeToLatLngDictionary(chunk)\n",
    "\n",
    "# Load Dictionary\n",
    "with open('data/OSMToLatLngDictionary2.json', 'r') as fp:\n",
    "    data = json.load(fp)\n",
    "\n",
    "newDict = {**d, **data}\n",
    "    \n",
    "# Save Dictionary\n",
    "with open('data/OSMToLatLngDictionary2.json', 'w') as fp:\n",
    "    json.dump(newDict, fp)"
   ]
  },
  {
   "cell_type": "markdown",
   "metadata": {},
   "source": [
    "We found out that there are nodes that were removed from OSMMap present in the dataset.\n",
    "\n",
    "There are listed bellow"
   ]
  },
  {
   "cell_type": "code",
   "execution_count": 20,
   "metadata": {},
   "outputs": [
    {
     "data": {
      "text/plain": [
       "[598114225,\n",
       " 582463773,\n",
       " 4174445898,\n",
       " 565052160,\n",
       " 580047011,\n",
       " 580047012,\n",
       " 331238069,\n",
       " 312416320,\n",
       " 660206860,\n",
       " 5332973020,\n",
       " 660206872,\n",
       " 5230804614,\n",
       " 289477434,\n",
       " 565051397,\n",
       " 565051398,\n",
       " 582463774,\n",
       " 621707601,\n",
       " 621707598,\n",
       " 423184563,\n",
       " 376010056,\n",
       " 621707593,\n",
       " 4174445899]"
      ]
     },
     "execution_count": 20,
     "metadata": {},
     "output_type": "execute_result"
    }
   ],
   "source": [
    "nonexistentNodes = []\n",
    "nonexistentNodes.append(allNodes[107:108][0])\n",
    "nonexistentNodes.append(allNodes[136:137][0])\n",
    "nonexistentNodes.append(allNodes[188:189][0])\n",
    "nonexistentNodes.append(allNodes[211:212][0])\n",
    "nonexistentNodes.append(allNodes[3281:3282][0])\n",
    "nonexistentNodes.append(allNodes[3287:3288][0])\n",
    "nonexistentNodes.append(allNodes[4049:4050][0])\n",
    "nonexistentNodes.append(allNodes[5395:5396][0])\n",
    "nonexistentNodes.append(allNodes[5949:5950][0])\n",
    "nonexistentNodes.append(allNodes[5965:5966][0])\n",
    "\n",
    "nonexistentNodes.append(allNodes[5976:5977][0])\n",
    "nonexistentNodes.append(allNodes[5983:5984][0])\n",
    "nonexistentNodes.append(allNodes[6165:6166][0])\n",
    "nonexistentNodes.append(allNodes[6175:6176][0])\n",
    "nonexistentNodes.append(allNodes[6177:6178][0])\n",
    "nonexistentNodes.append(allNodes[7798:7799][0])\n",
    "nonexistentNodes.append(allNodes[8625:8626][0])\n",
    "nonexistentNodes.append(allNodes[8626:8627][0])\n",
    "\n",
    "nonexistentNodes.append(allNodes[9089:9090][0])\n",
    "nonexistentNodes.append(allNodes[9103:9104][0])\n",
    "nonexistentNodes.append(allNodes[12252:12253][0])\n",
    "nonexistentNodes.append(allNodes[12343:12344][0])\n",
    "nonexistentNodes"
   ]
  },
  {
   "cell_type": "code",
   "execution_count": 23,
   "metadata": {},
   "outputs": [
    {
     "name": "stdout",
     "output_type": "stream",
     "text": [
      "22\n"
     ]
    },
    {
     "data": {
      "text/plain": [
       "12578"
      ]
     },
     "execution_count": 23,
     "metadata": {},
     "output_type": "execute_result"
    }
   ],
   "source": [
    "print(len(newDict.keys()))\n",
    "len(nonexistentNodes)\n",
    "\n",
    "# With yields the total of 12'600 nodes"
   ]
  }
 ],
 "metadata": {
  "kernelspec": {
   "display_name": "Python 3",
   "language": "python",
   "name": "python3"
  },
  "language_info": {
   "codemirror_mode": {
    "name": "ipython",
    "version": 3
   },
   "file_extension": ".py",
   "mimetype": "text/x-python",
   "name": "python",
   "nbconvert_exporter": "python",
   "pygments_lexer": "ipython3",
   "version": "3.6.7"
  }
 },
 "nbformat": 4,
 "nbformat_minor": 2
}
