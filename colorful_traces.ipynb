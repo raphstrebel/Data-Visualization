{
 "cells": [
  {
   "cell_type": "markdown",
   "metadata": {},
   "source": [
    "# Colorful Traces notebook\n",
    "\n",
    "Here is the notebook we used to do some exploration about the data\n",
    "\n",
    "Let's load it"
   ]
  },
  {
   "cell_type": "code",
   "execution_count": 1,
   "metadata": {},
   "outputs": [],
   "source": [
    "import pandas as pd "
   ]
  },
  {
   "cell_type": "code",
   "execution_count": 40,
   "metadata": {},
   "outputs": [
    {
     "data": {
      "text/html": [
       "<div>\n",
       "<style scoped>\n",
       "    .dataframe tbody tr th:only-of-type {\n",
       "        vertical-align: middle;\n",
       "    }\n",
       "\n",
       "    .dataframe tbody tr th {\n",
       "        vertical-align: top;\n",
       "    }\n",
       "\n",
       "    .dataframe thead th {\n",
       "        text-align: right;\n",
       "    }\n",
       "</style>\n",
       "<table border=\"1\" class=\"dataframe\">\n",
       "  <thead>\n",
       "    <tr style=\"text-align: right;\">\n",
       "      <th></th>\n",
       "      <th>plat</th>\n",
       "      <th>plng</th>\n",
       "      <th>dlat</th>\n",
       "      <th>dlng</th>\n",
       "      <th>t</th>\n",
       "      <th>road</th>\n",
       "      <th>LengthRoad</th>\n",
       "    </tr>\n",
       "  </thead>\n",
       "  <tbody>\n",
       "    <tr>\n",
       "      <th>0</th>\n",
       "      <td>46.517116</td>\n",
       "      <td>6.630342</td>\n",
       "      <td>46.508528</td>\n",
       "      <td>6.627598</td>\n",
       "      <td>11:15:00</td>\n",
       "      <td>[311463563, 2940544168, 311463564, 561463459, ...</td>\n",
       "      <td>61</td>\n",
       "    </tr>\n",
       "    <tr>\n",
       "      <th>1</th>\n",
       "      <td>46.517116</td>\n",
       "      <td>6.630342</td>\n",
       "      <td>46.521429</td>\n",
       "      <td>6.656347</td>\n",
       "      <td>20:00:00</td>\n",
       "      <td>[311463563, 2940544168, 311463564, 561463459, ...</td>\n",
       "      <td>234</td>\n",
       "    </tr>\n",
       "    <tr>\n",
       "      <th>2</th>\n",
       "      <td>46.517116</td>\n",
       "      <td>6.630342</td>\n",
       "      <td>46.558792</td>\n",
       "      <td>6.680104</td>\n",
       "      <td>18:15:00</td>\n",
       "      <td>[311463563, 2940544168, 311463564, 561463459, ...</td>\n",
       "      <td>346</td>\n",
       "    </tr>\n",
       "    <tr>\n",
       "      <th>3</th>\n",
       "      <td>46.520649</td>\n",
       "      <td>6.635173</td>\n",
       "      <td>46.519590</td>\n",
       "      <td>6.634718</td>\n",
       "      <td>18:45:00</td>\n",
       "      <td>[2223091605, 3786724165, 3786724164, 302530573...</td>\n",
       "      <td>125</td>\n",
       "    </tr>\n",
       "    <tr>\n",
       "      <th>4</th>\n",
       "      <td>46.510731</td>\n",
       "      <td>6.630553</td>\n",
       "      <td>46.515950</td>\n",
       "      <td>6.657525</td>\n",
       "      <td>19:00:00</td>\n",
       "      <td>[3516999773, 3817926827, 567951313, 567951312,...</td>\n",
       "      <td>201</td>\n",
       "    </tr>\n",
       "  </tbody>\n",
       "</table>\n",
       "</div>"
      ],
      "text/plain": [
       "        plat      plng       dlat      dlng         t  \\\n",
       "0  46.517116  6.630342  46.508528  6.627598  11:15:00   \n",
       "1  46.517116  6.630342  46.521429  6.656347  20:00:00   \n",
       "2  46.517116  6.630342  46.558792  6.680104  18:15:00   \n",
       "3  46.520649  6.635173  46.519590  6.634718  18:45:00   \n",
       "4  46.510731  6.630553  46.515950  6.657525  19:00:00   \n",
       "\n",
       "                                                road  LengthRoad  \n",
       "0  [311463563, 2940544168, 311463564, 561463459, ...          61  \n",
       "1  [311463563, 2940544168, 311463564, 561463459, ...         234  \n",
       "2  [311463563, 2940544168, 311463564, 561463459, ...         346  \n",
       "3  [2223091605, 3786724165, 3786724164, 302530573...         125  \n",
       "4  [3516999773, 3817926827, 567951313, 567951312,...         201  "
      ]
     },
     "execution_count": 40,
     "metadata": {},
     "output_type": "execute_result"
    }
   ],
   "source": [
    "colorful = pd.read_csv(\"dataviz.csv\", parse_dates=True )\n",
    "colorful[\"LengthRoad\"] = colorful[\"road\"].map(lambda x : len(eval(x)))\n",
    "\n",
    "colorful.head()"
   ]
  },
  {
   "cell_type": "markdown",
   "metadata": {},
   "source": [
    "One data point contains 6 attributs: `plat`, `plng`, `dlat`, `t`  and `road`. "
   ]
  },
  {
   "cell_type": "code",
   "execution_count": 39,
   "metadata": {},
   "outputs": [
    {
     "data": {
      "text/html": [
       "<div>\n",
       "<style scoped>\n",
       "    .dataframe tbody tr th:only-of-type {\n",
       "        vertical-align: middle;\n",
       "    }\n",
       "\n",
       "    .dataframe tbody tr th {\n",
       "        vertical-align: top;\n",
       "    }\n",
       "\n",
       "    .dataframe thead th {\n",
       "        text-align: right;\n",
       "    }\n",
       "</style>\n",
       "<table border=\"1\" class=\"dataframe\">\n",
       "  <thead>\n",
       "    <tr style=\"text-align: right;\">\n",
       "      <th></th>\n",
       "      <th>plat</th>\n",
       "      <th>plng</th>\n",
       "      <th>dlat</th>\n",
       "      <th>dlng</th>\n",
       "      <th>LengthRoad</th>\n",
       "    </tr>\n",
       "  </thead>\n",
       "  <tbody>\n",
       "    <tr>\n",
       "      <th>count</th>\n",
       "      <td>2000.000000</td>\n",
       "      <td>2000.000000</td>\n",
       "      <td>2000.000000</td>\n",
       "      <td>2000.000000</td>\n",
       "      <td>2000.000000</td>\n",
       "    </tr>\n",
       "    <tr>\n",
       "      <th>mean</th>\n",
       "      <td>46.520077</td>\n",
       "      <td>6.633191</td>\n",
       "      <td>46.534785</td>\n",
       "      <td>6.644947</td>\n",
       "      <td>210.462500</td>\n",
       "    </tr>\n",
       "    <tr>\n",
       "      <th>std</th>\n",
       "      <td>0.003142</td>\n",
       "      <td>0.005639</td>\n",
       "      <td>0.018449</td>\n",
       "      <td>0.031695</td>\n",
       "      <td>105.143822</td>\n",
       "    </tr>\n",
       "    <tr>\n",
       "      <th>min</th>\n",
       "      <td>46.507833</td>\n",
       "      <td>6.581138</td>\n",
       "      <td>46.487959</td>\n",
       "      <td>6.489375</td>\n",
       "      <td>12.000000</td>\n",
       "    </tr>\n",
       "    <tr>\n",
       "      <th>25%</th>\n",
       "      <td>46.518914</td>\n",
       "      <td>6.630342</td>\n",
       "      <td>46.519167</td>\n",
       "      <td>6.625845</td>\n",
       "      <td>123.000000</td>\n",
       "    </tr>\n",
       "    <tr>\n",
       "      <th>50%</th>\n",
       "      <td>46.520649</td>\n",
       "      <td>6.635173</td>\n",
       "      <td>46.529105</td>\n",
       "      <td>6.639434</td>\n",
       "      <td>190.500000</td>\n",
       "    </tr>\n",
       "    <tr>\n",
       "      <th>75%</th>\n",
       "      <td>46.520649</td>\n",
       "      <td>6.635173</td>\n",
       "      <td>46.558792</td>\n",
       "      <td>6.680104</td>\n",
       "      <td>316.000000</td>\n",
       "    </tr>\n",
       "    <tr>\n",
       "      <th>max</th>\n",
       "      <td>46.536840</td>\n",
       "      <td>6.652842</td>\n",
       "      <td>46.618108</td>\n",
       "      <td>6.741719</td>\n",
       "      <td>651.000000</td>\n",
       "    </tr>\n",
       "  </tbody>\n",
       "</table>\n",
       "</div>"
      ],
      "text/plain": [
       "              plat         plng         dlat         dlng   LengthRoad\n",
       "count  2000.000000  2000.000000  2000.000000  2000.000000  2000.000000\n",
       "mean     46.520077     6.633191    46.534785     6.644947   210.462500\n",
       "std       0.003142     0.005639     0.018449     0.031695   105.143822\n",
       "min      46.507833     6.581138    46.487959     6.489375    12.000000\n",
       "25%      46.518914     6.630342    46.519167     6.625845   123.000000\n",
       "50%      46.520649     6.635173    46.529105     6.639434   190.500000\n",
       "75%      46.520649     6.635173    46.558792     6.680104   316.000000\n",
       "max      46.536840     6.652842    46.618108     6.741719   651.000000"
      ]
     },
     "execution_count": 39,
     "metadata": {},
     "output_type": "execute_result"
    }
   ],
   "source": [
    "colorful.describe()"
   ]
  },
  {
   "cell_type": "code",
   "execution_count": 34,
   "metadata": {},
   "outputs": [],
   "source": []
  },
  {
   "cell_type": "code",
   "execution_count": 37,
   "metadata": {
    "scrolled": true
   },
   "outputs": [
    {
     "data": {
      "text/plain": [
       "count    2000.000000\n",
       "mean      210.462500\n",
       "std       105.143822\n",
       "min        12.000000\n",
       "25%       123.000000\n",
       "50%       190.500000\n",
       "75%       316.000000\n",
       "max       651.000000\n",
       "Name: LengthRoad, dtype: float64"
      ]
     },
     "execution_count": 37,
     "metadata": {},
     "output_type": "execute_result"
    }
   ],
   "source": [
    "colorful[\"LengthRoad\"].describe()"
   ]
  }
 ],
 "metadata": {
  "kernelspec": {
   "display_name": "Python 3",
   "language": "python",
   "name": "python3"
  },
  "language_info": {
   "codemirror_mode": {
    "name": "ipython",
    "version": 3
   },
   "file_extension": ".py",
   "mimetype": "text/x-python",
   "name": "python",
   "nbconvert_exporter": "python",
   "pygments_lexer": "ipython3",
   "version": "3.6.5"
  }
 },
 "nbformat": 4,
 "nbformat_minor": 2
}
